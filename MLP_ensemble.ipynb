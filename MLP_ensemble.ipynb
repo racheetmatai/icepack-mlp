{
 "cells": [
  {
   "cell_type": "code",
   "execution_count": 1,
   "metadata": {},
   "outputs": [],
   "source": [
    "from mlp_ensemble import loop_train_ensemble_mlp_model, train_ensemble_mlp_model, load_ensemble_mlp_model"
   ]
  },
  {
   "cell_type": "code",
   "execution_count": 2,
   "metadata": {},
   "outputs": [],
   "source": [
    "input_columns = ['s', 'b', 'h', 'mag_h', 'mag_s', 'mag_b', 'driving_stress', 'mag_anomaly', 'heatflux']\n",
    "#static_columns =   #['b', 'mag_b','mag_anomaly', 'heatflux'] static 4 models # ['b', 'mag_b', 'heatflux'] static_3 models: only got 1 model with R2> 0.2 # ['b', 'mag_b', 'mag_anomaly'] and ['b', 'mag_b']  and ['mag_anomaly', 'heatflux'] have r2 < 0.2\n",
    "#dynamic_columns =  # ['s',  'h', 'mag_h', 'mag_s'] dynamic 4 models #['s',  'h', 'mag_h', 'mag_s', 'driving_stress'] dynamic 5 models # ['h',  'mag_h'] and ['s',  'mag_s'] have r2 < 0.2 \n",
    "column_list = [\n",
    "    ['s', 'b', 'h', 'mag_h', 'mag_s', 'mag_b', 'driving_stress', 'mag_anomaly', 'heatflux'], #all columns\n",
    "    ['s',  'h', 'mag_h', 'mag_s', 'driving_stress'], # dynamic columns\n",
    "    ['s',  'h', 'mag_h', 'mag_s'],\n",
    "    ['mag_h', 'mag_s'],\n",
    "    ['s',  'h'],\n",
    "    ['b', 'mag_b','mag_anomaly', 'heatflux'], # static columns\n",
    "    ['b', 'mag_b','mag_anomaly'],\n",
    "]\n",
    "number_of_models = 10"
   ]
  },
  {
   "cell_type": "code",
   "execution_count": null,
   "metadata": {
    "scrolled": true
   },
   "outputs": [],
   "source": [
    "model_list, input_scaler_list, output_scaler_list, history_list, r2_stats_list, r2_adjusted_stats_list, mse_stats_list, df_summary = loop_train_ensemble_mlp_model(column_list , epochs = 1, variable = 'C', number_of_models = 10, bad_r2_score = -500, start_number = 0, variable_type = 'mixed')\n",
    "#model_list, input_scaler, output_scaler, history_list = train_ensemble_mlp_model(epochs = 500, variable = 'C', number_of_models = number_of_models, columns = static_columns, bad_r2_score = 0.2, start_number = 0, variable_type = 'static')"
   ]
  },
  {
   "cell_type": "code",
   "execution_count": null,
   "metadata": {},
   "outputs": [],
   "source": [
    "df_summary"
   ]
  },
  {
   "cell_type": "code",
   "execution_count": null,
   "metadata": {},
   "outputs": [],
   "source": [
    "#model_list, input_scaler, output_scaler, input_columns, variable = load_ensemble_mlp_model(input_columns, number_of_models = len(model_list), variable = 'C')"
   ]
  },
  {
   "cell_type": "code",
   "execution_count": null,
   "metadata": {},
   "outputs": [],
   "source": []
  }
 ],
 "metadata": {
  "kernelspec": {
   "display_name": "Python 3 (ipykernel)",
   "language": "python",
   "name": "python3"
  },
  "language_info": {
   "codemirror_mode": {
    "name": "ipython",
    "version": 3
   },
   "file_extension": ".py",
   "mimetype": "text/x-python",
   "name": "python",
   "nbconvert_exporter": "python",
   "pygments_lexer": "ipython3",
   "version": "3.9.19"
  }
 },
 "nbformat": 4,
 "nbformat_minor": 4
}
