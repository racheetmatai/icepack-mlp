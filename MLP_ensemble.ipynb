{
 "cells": [
  {
   "cell_type": "code",
   "execution_count": 1,
   "metadata": {},
   "outputs": [],
   "source": [
    "from mlp_ensemble import loop_train_ensemble_mlp_model, train_ensemble_mlp_model, load_ensemble_mlp_model"
   ]
  },
  {
   "cell_type": "code",
   "execution_count": 2,
   "metadata": {},
   "outputs": [],
   "source": [
    "input_columns = ['s', 'b', 'h', 'mag_h', 'mag_s', 'mag_b', 'driving_stress', 'mag_anomaly', 'heatflux']\n",
    "#static_columns =   #['b', 'mag_b','mag_anomaly', 'heatflux'] static 4 models # ['b', 'mag_b', 'heatflux'] static_3 models: only got 1 model with R2> 0.2 # ['b', 'mag_b', 'mag_anomaly'] and ['b', 'mag_b']  and ['mag_anomaly', 'heatflux'] have r2 < 0.2\n",
    "#dynamic_columns =  # ['s',  'h', 'mag_h', 'mag_s'] dynamic 4 models #['s',  'h', 'mag_h', 'mag_s', 'driving_stress'] dynamic 5 models # ['h',  'mag_h'] and ['s',  'mag_s'] have r2 < 0.2 \n",
    "column_list = [\n",
    "    ['s', 'b', 'h', 'mag_h', 'mag_s', 'mag_b', 'driving_stress', 'mag_anomaly', 'heatflux'], #all columns\n",
    "    ['s',  'h', 'mag_h', 'mag_s', 'driving_stress'], # dynamic columns\n",
    "    ['s',  'h', 'mag_h', 'mag_s'],\n",
    "    ['mag_h', 'mag_s'],\n",
    "    ['s',  'h'],\n",
    "    ['b', 'mag_b','mag_anomaly', 'heatflux'], # static columns\n",
    "    ['b', 'mag_b','mag_anomaly'],\n",
    "]\n",
    "number_of_models = 10"
   ]
  },
  {
   "cell_type": "code",
   "execution_count": 3,
   "metadata": {
    "scrolled": true
   },
   "outputs": [
    {
     "name": "stdout",
     "output_type": "stream",
     "text": [
      "7809/7809 [==============================] - 36s 4ms/step - loss: 4.4375e-04 - val_loss: 2.8509e-04 - lr: 0.0010\n",
      "3857/3857 [==============================] - 5s 1ms/step\n",
      "INFO:tensorflow:Assets written to: ram://e2206e31-13e0-4f20-b993-b6ae8d092707/assets\n",
      "7809/7809 [==============================] - 38s 5ms/step - loss: 4.3003e-04 - val_loss: 2.6350e-04 - lr: 0.0010\n",
      "3857/3857 [==============================] - 5s 1ms/step\n",
      "INFO:tensorflow:Assets written to: ram://27d7f73c-f78c-451c-8c80-4a692f345722/assets\n",
      "7809/7809 [==============================] - 31s 4ms/step - loss: 4.4679e-04 - val_loss: 2.4808e-04 - lr: 0.0010\n",
      "3857/3857 [==============================] - 5s 1ms/step\n",
      "INFO:tensorflow:Assets written to: ram://4eb27a11-2489-420a-9f3a-ed4ad3956c77/assets\n",
      "7809/7809 [==============================] - 34s 4ms/step - loss: 4.4674e-04 - val_loss: 2.6774e-04 - lr: 0.0010\n",
      "3857/3857 [==============================] - 5s 1ms/step\n",
      "INFO:tensorflow:Assets written to: ram://9c3605f7-3851-41f4-92ca-69c96c59d5e2/assets\n",
      "7809/7809 [==============================] - 33s 4ms/step - loss: 4.4936e-04 - val_loss: 2.6095e-04 - lr: 0.0010\n",
      "3857/3857 [==============================] - 5s 1ms/step\n",
      "INFO:tensorflow:Assets written to: ram://74a6ba02-65e2-4aeb-bd30-c07378759228/assets\n",
      "7809/7809 [==============================] - 33s 4ms/step - loss: 4.4628e-04 - val_loss: 2.6754e-04 - lr: 0.0010\n",
      "3857/3857 [==============================] - 5s 1ms/step\n",
      "INFO:tensorflow:Assets written to: ram://d04481e9-6cf1-4cc3-859e-97815be59031/assets\n",
      "7809/7809 [==============================] - 32s 4ms/step - loss: 4.1743e-04 - val_loss: 3.0587e-04 - lr: 0.0010\n",
      "3857/3857 [==============================] - 5s 1ms/step\n",
      "INFO:tensorflow:Assets written to: ram://d567d928-ee3c-4442-ab5f-090b1efa53c4/assets\n",
      "7809/7809 [==============================] - 32s 4ms/step - loss: 4.4901e-04 - val_loss: 2.5625e-04 - lr: 0.0010\n",
      "3857/3857 [==============================] - 5s 1ms/step\n",
      "INFO:tensorflow:Assets written to: ram://9b3a7c67-44bb-4702-a201-ae49171e0495/assets\n",
      "7809/7809 [==============================] - 32s 4ms/step - loss: 4.3943e-04 - val_loss: 2.6630e-04 - lr: 0.0010\n",
      "3857/3857 [==============================] - 5s 1ms/step\n",
      "INFO:tensorflow:Assets written to: ram://e07a32c8-cff5-4931-aed0-872cd50f09b6/assets\n",
      "7809/7809 [==============================] - 32s 4ms/step - loss: 4.4179e-04 - val_loss: 3.1443e-04 - lr: 0.0010\n",
      "3857/3857 [==============================] - 5s 1ms/step\n",
      "INFO:tensorflow:Assets written to: ram://09b84ffc-4cf9-4365-b8fa-262a80449c6c/assets\n",
      "Number of bad models: 0\n",
      "7809/7809 [==============================] - 34s 4ms/step - loss: 4.4125e-04 - val_loss: 2.6785e-04 - lr: 0.0010\n",
      "3857/3857 [==============================] - 5s 1ms/step\n",
      "INFO:tensorflow:Assets written to: ram://0ee806c1-626e-480f-b4f0-3bbbe9dc627b/assets\n",
      "7809/7809 [==============================] - 35s 4ms/step - loss: 4.3891e-04 - val_loss: 2.7434e-04 - lr: 0.0010\n",
      "3857/3857 [==============================] - 5s 1ms/step\n",
      "INFO:tensorflow:Assets written to: ram://bbd30005-2e73-42da-876d-fde4efd2aa8f/assets\n",
      "7809/7809 [==============================] - 37s 5ms/step - loss: 4.4671e-04 - val_loss: 2.6911e-04 - lr: 0.0010\n",
      "3857/3857 [==============================] - 5s 1ms/step\n",
      "INFO:tensorflow:Assets written to: ram://1fc32e20-6382-4377-8b04-471fdd9832fe/assets\n",
      "7809/7809 [==============================] - 32s 4ms/step - loss: 4.5192e-04 - val_loss: 2.9467e-04 - lr: 0.0010\n",
      "3857/3857 [==============================] - 5s 1ms/step\n",
      "INFO:tensorflow:Assets written to: ram://c92b0333-3ff9-4f73-9ab0-58a486f70e25/assets\n",
      "7809/7809 [==============================] - 32s 4ms/step - loss: 4.3985e-04 - val_loss: 2.6674e-04 - lr: 0.0010\n",
      "3857/3857 [==============================] - 5s 1ms/step\n",
      "INFO:tensorflow:Assets written to: ram://f1901116-753c-4e09-bf9e-dda54372f56c/assets\n",
      "7809/7809 [==============================] - 32s 4ms/step - loss: 4.4085e-04 - val_loss: 2.6527e-04 - lr: 0.0010\n",
      "3857/3857 [==============================] - 5s 1ms/step\n",
      "INFO:tensorflow:Assets written to: ram://b2c92adb-e921-44fe-a720-d31cb96006f1/assets\n",
      "7809/7809 [==============================] - 32s 4ms/step - loss: 4.3953e-04 - val_loss: 2.6694e-04 - lr: 0.0010\n",
      "3857/3857 [==============================] - 5s 1ms/step\n",
      "INFO:tensorflow:Assets written to: ram://afe5b0b3-5508-46c2-98ff-191924dd41e4/assets\n",
      "7809/7809 [==============================] - 32s 4ms/step - loss: 4.4770e-04 - val_loss: 2.9830e-04 - lr: 0.0010\n",
      "3857/3857 [==============================] - 5s 1ms/step\n",
      "INFO:tensorflow:Assets written to: ram://f63e5cef-ddf1-42ed-baef-5ed82baa082d/assets\n",
      "7809/7809 [==============================] - 36s 5ms/step - loss: 4.5470e-04 - val_loss: 2.6427e-04 - lr: 0.0010\n",
      "3857/3857 [==============================] - 5s 1ms/step\n",
      "INFO:tensorflow:Assets written to: ram://85f398ab-67c6-4994-a849-6915fe646989/assets\n",
      "7809/7809 [==============================] - 39s 5ms/step - loss: 4.4189e-04 - val_loss: 2.7552e-04 - lr: 0.0010\n",
      "3857/3857 [==============================] - 6s 1ms/step\n",
      "INFO:tensorflow:Assets written to: ram://aa615516-e358-461c-be00-c88f2680c8ec/assets\n",
      "Number of bad models: 0\n",
      "7809/7809 [==============================] - 39s 5ms/step - loss: 4.6000e-04 - val_loss: 3.0044e-04 - lr: 0.0010\n",
      "3857/3857 [==============================] - 5s 1ms/step\n",
      "INFO:tensorflow:Assets written to: ram://87d3cc76-817a-4ca8-af0a-b6cff7189ace/assets\n",
      "7809/7809 [==============================] - 39s 5ms/step - loss: 4.5697e-04 - val_loss: 2.8642e-04 - lr: 0.0010\n",
      "3857/3857 [==============================] - 5s 1ms/step\n",
      "INFO:tensorflow:Assets written to: ram://d3c182cb-0d57-48ef-801b-5483478bc44f/assets\n",
      "7809/7809 [==============================] - 39s 5ms/step - loss: 4.6031e-04 - val_loss: 3.0393e-04 - lr: 0.0010\n",
      "3857/3857 [==============================] - 5s 1ms/step\n",
      "INFO:tensorflow:Assets written to: ram://fd5664c1-8dd0-4506-b671-43265b4746ae/assets\n",
      "7809/7809 [==============================] - 39s 5ms/step - loss: 4.3731e-04 - val_loss: 2.8313e-04 - lr: 0.0010\n",
      "3857/3857 [==============================] - 5s 1ms/step\n",
      "INFO:tensorflow:Assets written to: ram://3608063a-24f9-4360-a05a-e024fa45aad4/assets\n",
      "7809/7809 [==============================] - 39s 5ms/step - loss: 4.3906e-04 - val_loss: 2.9125e-04 - lr: 0.0010\n",
      "3857/3857 [==============================] - 5s 1ms/step\n",
      "INFO:tensorflow:Assets written to: ram://9c9888a1-aa87-4e2b-8d25-dd486904dff2/assets\n",
      "7809/7809 [==============================] - 40s 5ms/step - loss: 4.4805e-04 - val_loss: 2.8924e-04 - lr: 0.0010\n",
      "3857/3857 [==============================] - 6s 1ms/step\n",
      "INFO:tensorflow:Assets written to: ram://3452d84e-384c-4a04-bbcc-a31c8b981b46/assets\n",
      "7809/7809 [==============================] - 40s 5ms/step - loss: 4.5760e-04 - val_loss: 3.3001e-04 - lr: 0.0010\n",
      "3857/3857 [==============================] - 6s 1ms/step\n",
      "INFO:tensorflow:Assets written to: ram://744b543e-2e81-4082-9b48-4d5832ac5339/assets\n",
      "7809/7809 [==============================] - 62s 8ms/step - loss: 4.4333e-04 - val_loss: 2.9067e-04 - lr: 0.0010\n",
      "3857/3857 [==============================] - 15s 4ms/step\n",
      "INFO:tensorflow:Assets written to: ram://71be2f3c-f99a-4347-b483-6d93ec707c41/assets\n",
      "7809/7809 [==============================] - 104s 13ms/step - loss: 4.3927e-04 - val_loss: 2.8810e-04 - lr: 0.0010\n",
      "3857/3857 [==============================] - 7s 2ms/step\n",
      "INFO:tensorflow:Assets written to: ram://980d380d-57bf-4f27-ba5b-2e742c24ae68/assets\n",
      "7809/7809 [==============================] - 66s 8ms/step - loss: 4.3925e-04 - val_loss: 3.0548e-04 - lr: 0.0010\n",
      "3857/3857 [==============================] - 19s 5ms/step\n",
      "INFO:tensorflow:Assets written to: ram://4adec99c-0e43-4773-a764-3cd7011972af/assets\n",
      "Number of bad models: 0\n",
      "7809/7809 [==============================] - 69s 9ms/step - loss: 4.6228e-04 - val_loss: 2.8392e-04 - lr: 0.0010\n",
      "3857/3857 [==============================] - 17s 4ms/step\n",
      "INFO:tensorflow:Assets written to: ram://4b2ec23e-a3d7-4d6c-9eac-7ec8a7b45025/assets\n",
      "7809/7809 [==============================] - 71s 9ms/step - loss: 4.5389e-04 - val_loss: 2.8508e-04 - lr: 0.0010\n",
      "3857/3857 [==============================] - 9s 2ms/step\n",
      "INFO:tensorflow:Assets written to: ram://a6e82c6b-513b-4f45-b1cc-2cd4b3afa82e/assets\n",
      "7809/7809 [==============================] - 80s 10ms/step - loss: 4.5758e-04 - val_loss: 2.8477e-04 - lr: 0.0010\n",
      "3857/3857 [==============================] - 10s 3ms/step\n",
      "INFO:tensorflow:Assets written to: ram://c2e387eb-0a78-423d-861b-dbf6f5659157/assets\n",
      "7809/7809 [==============================] - 76s 10ms/step - loss: 4.5587e-04 - val_loss: 2.8387e-04 - lr: 0.0010\n",
      "3857/3857 [==============================] - 45s 12ms/step\n",
      "INFO:tensorflow:Assets written to: ram://d6d9d660-8228-473b-8c69-0e64bafc42c6/assets\n",
      "2755/7809 [=========>....................] - ETA: 26s - loss: 7.7726e-04"
     ]
    },
    {
     "ename": "KeyboardInterrupt",
     "evalue": "",
     "output_type": "error",
     "traceback": [
      "\u001b[1;31m---------------------------------------------------------------------------\u001b[0m",
      "\u001b[1;31mKeyboardInterrupt\u001b[0m                         Traceback (most recent call last)",
      "Cell \u001b[1;32mIn[3], line 1\u001b[0m\n\u001b[1;32m----> 1\u001b[0m model_list, input_scaler, output_scaler, history_list \u001b[38;5;241m=\u001b[39m \u001b[43mloop_train_ensemble_mlp_model\u001b[49m\u001b[43m(\u001b[49m\u001b[43mcolumn_list\u001b[49m\u001b[43m \u001b[49m\u001b[43m,\u001b[49m\u001b[43m \u001b[49m\u001b[43mepochs\u001b[49m\u001b[43m \u001b[49m\u001b[38;5;241;43m=\u001b[39;49m\u001b[43m \u001b[49m\u001b[38;5;241;43m1\u001b[39;49m\u001b[43m,\u001b[49m\u001b[43m \u001b[49m\u001b[43mvariable\u001b[49m\u001b[43m \u001b[49m\u001b[38;5;241;43m=\u001b[39;49m\u001b[43m \u001b[49m\u001b[38;5;124;43m'\u001b[39;49m\u001b[38;5;124;43mC\u001b[39;49m\u001b[38;5;124;43m'\u001b[39;49m\u001b[43m,\u001b[49m\u001b[43m \u001b[49m\u001b[43mnumber_of_models\u001b[49m\u001b[43m \u001b[49m\u001b[38;5;241;43m=\u001b[39;49m\u001b[43m \u001b[49m\u001b[38;5;241;43m10\u001b[39;49m\u001b[43m,\u001b[49m\u001b[43m \u001b[49m\u001b[43mbad_r2_score\u001b[49m\u001b[43m \u001b[49m\u001b[38;5;241;43m=\u001b[39;49m\u001b[43m \u001b[49m\u001b[38;5;241;43m-\u001b[39;49m\u001b[38;5;241;43m500\u001b[39;49m\u001b[43m,\u001b[49m\u001b[43m \u001b[49m\u001b[43mstart_number\u001b[49m\u001b[43m \u001b[49m\u001b[38;5;241;43m=\u001b[39;49m\u001b[43m \u001b[49m\u001b[38;5;241;43m0\u001b[39;49m\u001b[43m,\u001b[49m\u001b[43m \u001b[49m\u001b[43mvariable_type\u001b[49m\u001b[43m \u001b[49m\u001b[38;5;241;43m=\u001b[39;49m\u001b[43m \u001b[49m\u001b[38;5;124;43m'\u001b[39;49m\u001b[38;5;124;43mmixed\u001b[39;49m\u001b[38;5;124;43m'\u001b[39;49m\u001b[43m)\u001b[49m\n\u001b[0;32m      2\u001b[0m \u001b[38;5;66;03m#model_list, input_scaler, output_scaler, history_list = train_ensemble_mlp_model(epochs = 500, variable = 'C', number_of_models = number_of_models, columns = static_columns, bad_r2_score = 0.2, start_number = 0, variable_type = 'static')\u001b[39;00m\n",
      "File \u001b[1;32mc:\\Users\\LDEO\\Desktop\\icepack-mlp\\mlp_ensemble.py:149\u001b[0m, in \u001b[0;36mloop_train_ensemble_mlp_model\u001b[1;34m(list_columns, epochs, variable, number_of_models, bad_r2_score, start_number, variable_type)\u001b[0m\n\u001b[0;32m    147\u001b[0m \u001b[38;5;28;01mfor\u001b[39;00m i, columns \u001b[38;5;129;01min\u001b[39;00m \u001b[38;5;28menumerate\u001b[39m(list_columns):\n\u001b[0;32m    148\u001b[0m     folder_name \u001b[38;5;241m=\u001b[39m os\u001b[38;5;241m.\u001b[39mpath\u001b[38;5;241m.\u001b[39mjoin(\u001b[38;5;124m'\u001b[39m\u001b[38;5;124mmlp_ensemble\u001b[39m\u001b[38;5;124m'\u001b[39m, \u001b[38;5;28mstr\u001b[39m(i))\n\u001b[1;32m--> 149\u001b[0m     model, input_scaler, output_scaler, history \u001b[38;5;241m=\u001b[39m \u001b[43mtrain_ensemble_mlp_model\u001b[49m\u001b[43m(\u001b[49m\u001b[43mepochs\u001b[49m\u001b[43m \u001b[49m\u001b[38;5;241;43m=\u001b[39;49m\u001b[43m \u001b[49m\u001b[43mepochs\u001b[49m\u001b[43m,\u001b[49m\u001b[43m \u001b[49m\u001b[43mvariable\u001b[49m\u001b[43m \u001b[49m\u001b[38;5;241;43m=\u001b[39;49m\u001b[43m \u001b[49m\u001b[43mvariable\u001b[49m\u001b[43m,\u001b[49m\u001b[43m \u001b[49m\u001b[43mnumber_of_models\u001b[49m\u001b[43m \u001b[49m\u001b[38;5;241;43m=\u001b[39;49m\u001b[43m \u001b[49m\u001b[43mnumber_of_models\u001b[49m\u001b[43m,\u001b[49m\u001b[43m \u001b[49m\u001b[43mcolumns\u001b[49m\u001b[43m \u001b[49m\u001b[38;5;241;43m=\u001b[39;49m\u001b[43m \u001b[49m\u001b[43mcolumns\u001b[49m\u001b[43m,\u001b[49m\u001b[43m \u001b[49m\u001b[43mbad_r2_score\u001b[49m\u001b[43m \u001b[49m\u001b[38;5;241;43m=\u001b[39;49m\u001b[43m \u001b[49m\u001b[43mbad_r2_score\u001b[49m\u001b[43m,\u001b[49m\u001b[43m \u001b[49m\u001b[43mstart_number\u001b[49m\u001b[43m \u001b[49m\u001b[38;5;241;43m=\u001b[39;49m\u001b[43m \u001b[49m\u001b[43mstart_number\u001b[49m\u001b[43m,\u001b[49m\u001b[43m \u001b[49m\u001b[43mvariable_type\u001b[49m\u001b[43m \u001b[49m\u001b[38;5;241;43m=\u001b[39;49m\u001b[43m \u001b[49m\u001b[43mvariable_type\u001b[49m\u001b[43m,\u001b[49m\u001b[43m \u001b[49m\u001b[43mfolder_name\u001b[49m\u001b[43m \u001b[49m\u001b[38;5;241;43m=\u001b[39;49m\u001b[43m \u001b[49m\u001b[43mfolder_name\u001b[49m\u001b[43m)\u001b[49m\n\u001b[0;32m    150\u001b[0m     model_list\u001b[38;5;241m.\u001b[39mappend(model)\n\u001b[0;32m    151\u001b[0m     input_scaler_list\u001b[38;5;241m.\u001b[39mappend(input_scaler)\n",
      "File \u001b[1;32mc:\\Users\\LDEO\\Desktop\\icepack-mlp\\mlp_ensemble.py:97\u001b[0m, in \u001b[0;36mtrain_ensemble_mlp_model\u001b[1;34m(epochs, variable, number_of_models, columns, bad_r2_score, start_number, variable_type, folder_name)\u001b[0m\n\u001b[0;32m     91\u001b[0m reduce_lr \u001b[38;5;241m=\u001b[39m ReduceLROnPlateau(monitor\u001b[38;5;241m=\u001b[39m\u001b[38;5;124m'\u001b[39m\u001b[38;5;124mval_loss\u001b[39m\u001b[38;5;124m'\u001b[39m, factor\u001b[38;5;241m=\u001b[39m\u001b[38;5;241m0.2\u001b[39m,\n\u001b[0;32m     92\u001b[0m                         patience\u001b[38;5;241m=\u001b[39m\u001b[38;5;241m40\u001b[39m, min_lr\u001b[38;5;241m=\u001b[39m\u001b[38;5;241m0.00001\u001b[39m) \u001b[38;5;66;03m# 40\u001b[39;00m\n\u001b[0;32m     93\u001b[0m early_stopping \u001b[38;5;241m=\u001b[39m EarlyStopping(\n\u001b[0;32m     94\u001b[0m     monitor\u001b[38;5;241m=\u001b[39m\u001b[38;5;124m'\u001b[39m\u001b[38;5;124mval_loss\u001b[39m\u001b[38;5;124m'\u001b[39m,\n\u001b[0;32m     95\u001b[0m     patience\u001b[38;5;241m=\u001b[39m\u001b[38;5;241m100\u001b[39m, \u001b[38;5;66;03m#100\u001b[39;00m\n\u001b[0;32m     96\u001b[0m     restore_best_weights\u001b[38;5;241m=\u001b[39m\u001b[38;5;28;01mTrue\u001b[39;00m)\n\u001b[1;32m---> 97\u001b[0m history \u001b[38;5;241m=\u001b[39m \u001b[43mmodel\u001b[49m\u001b[38;5;241;43m.\u001b[39;49m\u001b[43mfit\u001b[49m\u001b[43m(\u001b[49m\u001b[43mX_train\u001b[49m\u001b[43m,\u001b[49m\u001b[43m \u001b[49m\u001b[43my_train\u001b[49m\u001b[43m,\u001b[49m\u001b[43m \u001b[49m\u001b[43mepochs\u001b[49m\u001b[38;5;241;43m=\u001b[39;49m\u001b[43mepochs\u001b[49m\u001b[43m,\u001b[49m\u001b[43m \u001b[49m\u001b[43mbatch_size\u001b[49m\u001b[38;5;241;43m=\u001b[39;49m\u001b[38;5;241;43m128\u001b[39;49m\u001b[43m,\u001b[49m\u001b[43m \u001b[49m\u001b[43mvalidation_split\u001b[49m\u001b[38;5;241;43m=\u001b[39;49m\u001b[38;5;241;43m0.1\u001b[39;49m\u001b[43m,\u001b[49m\u001b[43m \u001b[49m\u001b[43mcallbacks\u001b[49m\u001b[38;5;241;43m=\u001b[39;49m\u001b[43m[\u001b[49m\u001b[43mreduce_lr\u001b[49m\u001b[43m,\u001b[49m\u001b[43m \u001b[49m\u001b[43mearly_stopping\u001b[49m\u001b[43m]\u001b[49m\u001b[43m,\u001b[49m\u001b[43m \u001b[49m\u001b[43mshuffle\u001b[49m\u001b[38;5;241;43m=\u001b[39;49m\u001b[38;5;28;43;01mTrue\u001b[39;49;00m\u001b[43m)\u001b[49m\n\u001b[0;32m     98\u001b[0m y_test_predictions \u001b[38;5;241m=\u001b[39m model\u001b[38;5;241m.\u001b[39mpredict(X_test)\n\u001b[0;32m     99\u001b[0m r2 \u001b[38;5;241m=\u001b[39m r2_score(y_test_predictions[:,\u001b[38;5;241m0\u001b[39m], y_test[:,\u001b[38;5;241m0\u001b[39m])\n",
      "File \u001b[1;32mc:\\Users\\LDEO\\miniconda3\\envs\\tf\\lib\\site-packages\\keras\\utils\\traceback_utils.py:65\u001b[0m, in \u001b[0;36mfilter_traceback.<locals>.error_handler\u001b[1;34m(*args, **kwargs)\u001b[0m\n\u001b[0;32m     63\u001b[0m filtered_tb \u001b[38;5;241m=\u001b[39m \u001b[38;5;28;01mNone\u001b[39;00m\n\u001b[0;32m     64\u001b[0m \u001b[38;5;28;01mtry\u001b[39;00m:\n\u001b[1;32m---> 65\u001b[0m     \u001b[38;5;28;01mreturn\u001b[39;00m fn(\u001b[38;5;241m*\u001b[39margs, \u001b[38;5;241m*\u001b[39m\u001b[38;5;241m*\u001b[39mkwargs)\n\u001b[0;32m     66\u001b[0m \u001b[38;5;28;01mexcept\u001b[39;00m \u001b[38;5;167;01mException\u001b[39;00m \u001b[38;5;28;01mas\u001b[39;00m e:\n\u001b[0;32m     67\u001b[0m     filtered_tb \u001b[38;5;241m=\u001b[39m _process_traceback_frames(e\u001b[38;5;241m.\u001b[39m__traceback__)\n",
      "File \u001b[1;32mc:\\Users\\LDEO\\miniconda3\\envs\\tf\\lib\\site-packages\\keras\\engine\\training.py:1564\u001b[0m, in \u001b[0;36mModel.fit\u001b[1;34m(self, x, y, batch_size, epochs, verbose, callbacks, validation_split, validation_data, shuffle, class_weight, sample_weight, initial_epoch, steps_per_epoch, validation_steps, validation_batch_size, validation_freq, max_queue_size, workers, use_multiprocessing)\u001b[0m\n\u001b[0;32m   1556\u001b[0m \u001b[38;5;28;01mwith\u001b[39;00m tf\u001b[38;5;241m.\u001b[39mprofiler\u001b[38;5;241m.\u001b[39mexperimental\u001b[38;5;241m.\u001b[39mTrace(\n\u001b[0;32m   1557\u001b[0m     \u001b[38;5;124m\"\u001b[39m\u001b[38;5;124mtrain\u001b[39m\u001b[38;5;124m\"\u001b[39m,\n\u001b[0;32m   1558\u001b[0m     epoch_num\u001b[38;5;241m=\u001b[39mepoch,\n\u001b[1;32m   (...)\u001b[0m\n\u001b[0;32m   1561\u001b[0m     _r\u001b[38;5;241m=\u001b[39m\u001b[38;5;241m1\u001b[39m,\n\u001b[0;32m   1562\u001b[0m ):\n\u001b[0;32m   1563\u001b[0m     callbacks\u001b[38;5;241m.\u001b[39mon_train_batch_begin(step)\n\u001b[1;32m-> 1564\u001b[0m     tmp_logs \u001b[38;5;241m=\u001b[39m \u001b[38;5;28;43mself\u001b[39;49m\u001b[38;5;241;43m.\u001b[39;49m\u001b[43mtrain_function\u001b[49m\u001b[43m(\u001b[49m\u001b[43miterator\u001b[49m\u001b[43m)\u001b[49m\n\u001b[0;32m   1565\u001b[0m     \u001b[38;5;28;01mif\u001b[39;00m data_handler\u001b[38;5;241m.\u001b[39mshould_sync:\n\u001b[0;32m   1566\u001b[0m         context\u001b[38;5;241m.\u001b[39masync_wait()\n",
      "File \u001b[1;32mc:\\Users\\LDEO\\miniconda3\\envs\\tf\\lib\\site-packages\\tensorflow\\python\\util\\traceback_utils.py:150\u001b[0m, in \u001b[0;36mfilter_traceback.<locals>.error_handler\u001b[1;34m(*args, **kwargs)\u001b[0m\n\u001b[0;32m    148\u001b[0m filtered_tb \u001b[38;5;241m=\u001b[39m \u001b[38;5;28;01mNone\u001b[39;00m\n\u001b[0;32m    149\u001b[0m \u001b[38;5;28;01mtry\u001b[39;00m:\n\u001b[1;32m--> 150\u001b[0m   \u001b[38;5;28;01mreturn\u001b[39;00m fn(\u001b[38;5;241m*\u001b[39margs, \u001b[38;5;241m*\u001b[39m\u001b[38;5;241m*\u001b[39mkwargs)\n\u001b[0;32m    151\u001b[0m \u001b[38;5;28;01mexcept\u001b[39;00m \u001b[38;5;167;01mException\u001b[39;00m \u001b[38;5;28;01mas\u001b[39;00m e:\n\u001b[0;32m    152\u001b[0m   filtered_tb \u001b[38;5;241m=\u001b[39m _process_traceback_frames(e\u001b[38;5;241m.\u001b[39m__traceback__)\n",
      "File \u001b[1;32mc:\\Users\\LDEO\\miniconda3\\envs\\tf\\lib\\site-packages\\tensorflow\\python\\eager\\def_function.py:915\u001b[0m, in \u001b[0;36mFunction.__call__\u001b[1;34m(self, *args, **kwds)\u001b[0m\n\u001b[0;32m    912\u001b[0m compiler \u001b[38;5;241m=\u001b[39m \u001b[38;5;124m\"\u001b[39m\u001b[38;5;124mxla\u001b[39m\u001b[38;5;124m\"\u001b[39m \u001b[38;5;28;01mif\u001b[39;00m \u001b[38;5;28mself\u001b[39m\u001b[38;5;241m.\u001b[39m_jit_compile \u001b[38;5;28;01melse\u001b[39;00m \u001b[38;5;124m\"\u001b[39m\u001b[38;5;124mnonXla\u001b[39m\u001b[38;5;124m\"\u001b[39m\n\u001b[0;32m    914\u001b[0m \u001b[38;5;28;01mwith\u001b[39;00m OptionalXlaContext(\u001b[38;5;28mself\u001b[39m\u001b[38;5;241m.\u001b[39m_jit_compile):\n\u001b[1;32m--> 915\u001b[0m   result \u001b[38;5;241m=\u001b[39m \u001b[38;5;28mself\u001b[39m\u001b[38;5;241m.\u001b[39m_call(\u001b[38;5;241m*\u001b[39margs, \u001b[38;5;241m*\u001b[39m\u001b[38;5;241m*\u001b[39mkwds)\n\u001b[0;32m    917\u001b[0m new_tracing_count \u001b[38;5;241m=\u001b[39m \u001b[38;5;28mself\u001b[39m\u001b[38;5;241m.\u001b[39mexperimental_get_tracing_count()\n\u001b[0;32m    918\u001b[0m without_tracing \u001b[38;5;241m=\u001b[39m (tracing_count \u001b[38;5;241m==\u001b[39m new_tracing_count)\n",
      "File \u001b[1;32mc:\\Users\\LDEO\\miniconda3\\envs\\tf\\lib\\site-packages\\tensorflow\\python\\eager\\def_function.py:947\u001b[0m, in \u001b[0;36mFunction._call\u001b[1;34m(self, *args, **kwds)\u001b[0m\n\u001b[0;32m    944\u001b[0m   \u001b[38;5;28mself\u001b[39m\u001b[38;5;241m.\u001b[39m_lock\u001b[38;5;241m.\u001b[39mrelease()\n\u001b[0;32m    945\u001b[0m   \u001b[38;5;66;03m# In this case we have created variables on the first call, so we run the\u001b[39;00m\n\u001b[0;32m    946\u001b[0m   \u001b[38;5;66;03m# defunned version which is guaranteed to never create variables.\u001b[39;00m\n\u001b[1;32m--> 947\u001b[0m   \u001b[38;5;28;01mreturn\u001b[39;00m \u001b[38;5;28mself\u001b[39m\u001b[38;5;241m.\u001b[39m_stateless_fn(\u001b[38;5;241m*\u001b[39margs, \u001b[38;5;241m*\u001b[39m\u001b[38;5;241m*\u001b[39mkwds)  \u001b[38;5;66;03m# pylint: disable=not-callable\u001b[39;00m\n\u001b[0;32m    948\u001b[0m \u001b[38;5;28;01melif\u001b[39;00m \u001b[38;5;28mself\u001b[39m\u001b[38;5;241m.\u001b[39m_stateful_fn \u001b[38;5;129;01mis\u001b[39;00m \u001b[38;5;129;01mnot\u001b[39;00m \u001b[38;5;28;01mNone\u001b[39;00m:\n\u001b[0;32m    949\u001b[0m   \u001b[38;5;66;03m# Release the lock early so that multiple threads can perform the call\u001b[39;00m\n\u001b[0;32m    950\u001b[0m   \u001b[38;5;66;03m# in parallel.\u001b[39;00m\n\u001b[0;32m    951\u001b[0m   \u001b[38;5;28mself\u001b[39m\u001b[38;5;241m.\u001b[39m_lock\u001b[38;5;241m.\u001b[39mrelease()\n",
      "File \u001b[1;32mc:\\Users\\LDEO\\miniconda3\\envs\\tf\\lib\\site-packages\\tensorflow\\python\\eager\\function.py:2496\u001b[0m, in \u001b[0;36mFunction.__call__\u001b[1;34m(self, *args, **kwargs)\u001b[0m\n\u001b[0;32m   2493\u001b[0m \u001b[38;5;28;01mwith\u001b[39;00m \u001b[38;5;28mself\u001b[39m\u001b[38;5;241m.\u001b[39m_lock:\n\u001b[0;32m   2494\u001b[0m   (graph_function,\n\u001b[0;32m   2495\u001b[0m    filtered_flat_args) \u001b[38;5;241m=\u001b[39m \u001b[38;5;28mself\u001b[39m\u001b[38;5;241m.\u001b[39m_maybe_define_function(args, kwargs)\n\u001b[1;32m-> 2496\u001b[0m \u001b[38;5;28;01mreturn\u001b[39;00m \u001b[43mgraph_function\u001b[49m\u001b[38;5;241;43m.\u001b[39;49m\u001b[43m_call_flat\u001b[49m\u001b[43m(\u001b[49m\n\u001b[0;32m   2497\u001b[0m \u001b[43m    \u001b[49m\u001b[43mfiltered_flat_args\u001b[49m\u001b[43m,\u001b[49m\u001b[43m \u001b[49m\u001b[43mcaptured_inputs\u001b[49m\u001b[38;5;241;43m=\u001b[39;49m\u001b[43mgraph_function\u001b[49m\u001b[38;5;241;43m.\u001b[39;49m\u001b[43mcaptured_inputs\u001b[49m\u001b[43m)\u001b[49m\n",
      "File \u001b[1;32mc:\\Users\\LDEO\\miniconda3\\envs\\tf\\lib\\site-packages\\tensorflow\\python\\eager\\function.py:1862\u001b[0m, in \u001b[0;36mConcreteFunction._call_flat\u001b[1;34m(self, args, captured_inputs, cancellation_manager)\u001b[0m\n\u001b[0;32m   1858\u001b[0m possible_gradient_type \u001b[38;5;241m=\u001b[39m gradients_util\u001b[38;5;241m.\u001b[39mPossibleTapeGradientTypes(args)\n\u001b[0;32m   1859\u001b[0m \u001b[38;5;28;01mif\u001b[39;00m (possible_gradient_type \u001b[38;5;241m==\u001b[39m gradients_util\u001b[38;5;241m.\u001b[39mPOSSIBLE_GRADIENT_TYPES_NONE\n\u001b[0;32m   1860\u001b[0m     \u001b[38;5;129;01mand\u001b[39;00m executing_eagerly):\n\u001b[0;32m   1861\u001b[0m   \u001b[38;5;66;03m# No tape is watching; skip to running the function.\u001b[39;00m\n\u001b[1;32m-> 1862\u001b[0m   \u001b[38;5;28;01mreturn\u001b[39;00m \u001b[38;5;28mself\u001b[39m\u001b[38;5;241m.\u001b[39m_build_call_outputs(\u001b[38;5;28;43mself\u001b[39;49m\u001b[38;5;241;43m.\u001b[39;49m\u001b[43m_inference_function\u001b[49m\u001b[38;5;241;43m.\u001b[39;49m\u001b[43mcall\u001b[49m\u001b[43m(\u001b[49m\n\u001b[0;32m   1863\u001b[0m \u001b[43m      \u001b[49m\u001b[43mctx\u001b[49m\u001b[43m,\u001b[49m\u001b[43m \u001b[49m\u001b[43margs\u001b[49m\u001b[43m,\u001b[49m\u001b[43m \u001b[49m\u001b[43mcancellation_manager\u001b[49m\u001b[38;5;241;43m=\u001b[39;49m\u001b[43mcancellation_manager\u001b[49m\u001b[43m)\u001b[49m)\n\u001b[0;32m   1864\u001b[0m forward_backward \u001b[38;5;241m=\u001b[39m \u001b[38;5;28mself\u001b[39m\u001b[38;5;241m.\u001b[39m_select_forward_and_backward_functions(\n\u001b[0;32m   1865\u001b[0m     args,\n\u001b[0;32m   1866\u001b[0m     possible_gradient_type,\n\u001b[0;32m   1867\u001b[0m     executing_eagerly)\n\u001b[0;32m   1868\u001b[0m forward_function, args_with_tangents \u001b[38;5;241m=\u001b[39m forward_backward\u001b[38;5;241m.\u001b[39mforward()\n",
      "File \u001b[1;32mc:\\Users\\LDEO\\miniconda3\\envs\\tf\\lib\\site-packages\\tensorflow\\python\\eager\\function.py:499\u001b[0m, in \u001b[0;36m_EagerDefinedFunction.call\u001b[1;34m(self, ctx, args, cancellation_manager)\u001b[0m\n\u001b[0;32m    497\u001b[0m \u001b[38;5;28;01mwith\u001b[39;00m _InterpolateFunctionError(\u001b[38;5;28mself\u001b[39m):\n\u001b[0;32m    498\u001b[0m   \u001b[38;5;28;01mif\u001b[39;00m cancellation_manager \u001b[38;5;129;01mis\u001b[39;00m \u001b[38;5;28;01mNone\u001b[39;00m:\n\u001b[1;32m--> 499\u001b[0m     outputs \u001b[38;5;241m=\u001b[39m \u001b[43mexecute\u001b[49m\u001b[38;5;241;43m.\u001b[39;49m\u001b[43mexecute\u001b[49m\u001b[43m(\u001b[49m\n\u001b[0;32m    500\u001b[0m \u001b[43m        \u001b[49m\u001b[38;5;28;43mstr\u001b[39;49m\u001b[43m(\u001b[49m\u001b[38;5;28;43mself\u001b[39;49m\u001b[38;5;241;43m.\u001b[39;49m\u001b[43msignature\u001b[49m\u001b[38;5;241;43m.\u001b[39;49m\u001b[43mname\u001b[49m\u001b[43m)\u001b[49m\u001b[43m,\u001b[49m\n\u001b[0;32m    501\u001b[0m \u001b[43m        \u001b[49m\u001b[43mnum_outputs\u001b[49m\u001b[38;5;241;43m=\u001b[39;49m\u001b[38;5;28;43mself\u001b[39;49m\u001b[38;5;241;43m.\u001b[39;49m\u001b[43m_num_outputs\u001b[49m\u001b[43m,\u001b[49m\n\u001b[0;32m    502\u001b[0m \u001b[43m        \u001b[49m\u001b[43minputs\u001b[49m\u001b[38;5;241;43m=\u001b[39;49m\u001b[43margs\u001b[49m\u001b[43m,\u001b[49m\n\u001b[0;32m    503\u001b[0m \u001b[43m        \u001b[49m\u001b[43mattrs\u001b[49m\u001b[38;5;241;43m=\u001b[39;49m\u001b[43mattrs\u001b[49m\u001b[43m,\u001b[49m\n\u001b[0;32m    504\u001b[0m \u001b[43m        \u001b[49m\u001b[43mctx\u001b[49m\u001b[38;5;241;43m=\u001b[39;49m\u001b[43mctx\u001b[49m\u001b[43m)\u001b[49m\n\u001b[0;32m    505\u001b[0m   \u001b[38;5;28;01melse\u001b[39;00m:\n\u001b[0;32m    506\u001b[0m     outputs \u001b[38;5;241m=\u001b[39m execute\u001b[38;5;241m.\u001b[39mexecute_with_cancellation(\n\u001b[0;32m    507\u001b[0m         \u001b[38;5;28mstr\u001b[39m(\u001b[38;5;28mself\u001b[39m\u001b[38;5;241m.\u001b[39msignature\u001b[38;5;241m.\u001b[39mname),\n\u001b[0;32m    508\u001b[0m         num_outputs\u001b[38;5;241m=\u001b[39m\u001b[38;5;28mself\u001b[39m\u001b[38;5;241m.\u001b[39m_num_outputs,\n\u001b[1;32m   (...)\u001b[0m\n\u001b[0;32m    511\u001b[0m         ctx\u001b[38;5;241m=\u001b[39mctx,\n\u001b[0;32m    512\u001b[0m         cancellation_manager\u001b[38;5;241m=\u001b[39mcancellation_manager)\n",
      "File \u001b[1;32mc:\\Users\\LDEO\\miniconda3\\envs\\tf\\lib\\site-packages\\tensorflow\\python\\eager\\execute.py:54\u001b[0m, in \u001b[0;36mquick_execute\u001b[1;34m(op_name, num_outputs, inputs, attrs, ctx, name)\u001b[0m\n\u001b[0;32m     52\u001b[0m \u001b[38;5;28;01mtry\u001b[39;00m:\n\u001b[0;32m     53\u001b[0m   ctx\u001b[38;5;241m.\u001b[39mensure_initialized()\n\u001b[1;32m---> 54\u001b[0m   tensors \u001b[38;5;241m=\u001b[39m \u001b[43mpywrap_tfe\u001b[49m\u001b[38;5;241;43m.\u001b[39;49m\u001b[43mTFE_Py_Execute\u001b[49m\u001b[43m(\u001b[49m\u001b[43mctx\u001b[49m\u001b[38;5;241;43m.\u001b[39;49m\u001b[43m_handle\u001b[49m\u001b[43m,\u001b[49m\u001b[43m \u001b[49m\u001b[43mdevice_name\u001b[49m\u001b[43m,\u001b[49m\u001b[43m \u001b[49m\u001b[43mop_name\u001b[49m\u001b[43m,\u001b[49m\n\u001b[0;32m     55\u001b[0m \u001b[43m                                      \u001b[49m\u001b[43minputs\u001b[49m\u001b[43m,\u001b[49m\u001b[43m \u001b[49m\u001b[43mattrs\u001b[49m\u001b[43m,\u001b[49m\u001b[43m \u001b[49m\u001b[43mnum_outputs\u001b[49m\u001b[43m)\u001b[49m\n\u001b[0;32m     56\u001b[0m \u001b[38;5;28;01mexcept\u001b[39;00m core\u001b[38;5;241m.\u001b[39m_NotOkStatusException \u001b[38;5;28;01mas\u001b[39;00m e:\n\u001b[0;32m     57\u001b[0m   \u001b[38;5;28;01mif\u001b[39;00m name \u001b[38;5;129;01mis\u001b[39;00m \u001b[38;5;129;01mnot\u001b[39;00m \u001b[38;5;28;01mNone\u001b[39;00m:\n",
      "\u001b[1;31mKeyboardInterrupt\u001b[0m: "
     ]
    }
   ],
   "source": [
    "model_list, input_scaler, output_scaler, history_list = loop_train_ensemble_mlp_model(column_list , epochs = 500, variable = 'C', number_of_models = 10, bad_r2_score = -500, start_number = 0, variable_type = 'mixed')\n",
    "#model_list, input_scaler, output_scaler, history_list = train_ensemble_mlp_model(epochs = 500, variable = 'C', number_of_models = number_of_models, columns = static_columns, bad_r2_score = 0.2, start_number = 0, variable_type = 'static')"
   ]
  },
  {
   "cell_type": "code",
   "execution_count": null,
   "metadata": {},
   "outputs": [],
   "source": [
    "#model_list, input_scaler, output_scaler, input_columns, variable = load_ensemble_mlp_model(input_columns, number_of_models = len(model_list), variable = 'C')"
   ]
  },
  {
   "cell_type": "code",
   "execution_count": null,
   "metadata": {},
   "outputs": [],
   "source": []
  }
 ],
 "metadata": {
  "kernelspec": {
   "display_name": "Python 3 (ipykernel)",
   "language": "python",
   "name": "python3"
  },
  "language_info": {
   "codemirror_mode": {
    "name": "ipython",
    "version": 3
   },
   "file_extension": ".py",
   "mimetype": "text/x-python",
   "name": "python",
   "nbconvert_exporter": "python",
   "pygments_lexer": "ipython3",
   "version": "3.9.18"
  }
 },
 "nbformat": 4,
 "nbformat_minor": 4
}
