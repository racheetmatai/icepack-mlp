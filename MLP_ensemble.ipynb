{
 "cells": [
  {
   "cell_type": "code",
   "execution_count": 1,
   "metadata": {},
   "outputs": [],
   "source": [
    "from mlp_ensemble import loop_train_ensemble_mlp_model, train_ensemble_mlp_model, load_ensemble_mlp_model"
   ]
  },
  {
   "cell_type": "code",
   "execution_count": 2,
   "metadata": {},
   "outputs": [],
   "source": [
    "import os\n",
    "os.environ[\"CUDA_VISIBLE_DEVICES\"]=\"1\""
   ]
  },
  {
   "cell_type": "code",
   "execution_count": 6,
   "metadata": {},
   "outputs": [],
   "source": [
    "input_columns = ['s', 'b', 'h', 'mag_h', 'mag_s', 'mag_b', 'driving_stress', 'mag_anomaly', 'heatflux', 'snow_accumulation', 'surface_air_temp','gravity_disturbance']\n",
    "#static_columns =   #['b', 'mag_b','mag_anomaly', 'heatflux'] static 4 models # ['b', 'mag_b', 'heatflux'] static_3 models: only got 1 model with R2> 0.2 # ['b', 'mag_b', 'mag_anomaly'] and ['b', 'mag_b']  and ['mag_anomaly', 'heatflux'] have r2 < 0.2\n",
    "#dynamic_columns =  # ['s',  'h', 'mag_h', 'mag_s'] dynamic 4 models #['s',  'h', 'mag_h', 'mag_s', 'driving_stress'] dynamic 5 models # ['h',  'mag_h'] and ['s',  'mag_s'] have r2 < 0.2 \n",
    "column_list = [\n",
    "    ['s', 'b', 'h', 'mag_h', 'mag_s', 'mag_b', 'driving_stress', 'mag_anomaly', 'heatflux', 'snow_accumulation', 'surface_air_temp','gravity_disturbance'], #all columns\n",
    "    ['s',  'h', 'mag_h', 'mag_s', 'driving_stress', 'snow_accumulation', 'surface_air_temp'], # dynamic columns\n",
    "    ['s',  'h', 'mag_h', 'mag_s', 'driving_stress'],\n",
    "    ['s',  'h', 'mag_h', 'mag_s', 'snow_accumulation'],\n",
    "    ['s',  'h', 'mag_h', 'mag_s', 'surface_air_temp'],\n",
    "    ['s',  'h', 'mag_h', 'mag_s'],\n",
    "    ['mag_h', 'mag_s'],\n",
    "    ['s',  'h'],\n",
    "    ['driving_stress', 'snow_accumulation', 'surface_air_temp'],\n",
    "    ['b', 'mag_b','mag_anomaly', 'heatflux', 'gravity_disturbance'], # static columns\n",
    "    ['b', 'mag_b','mag_anomaly','gravity_disturbance'],\n",
    "    ['b', 'mag_b','mag_anomaly'],\n",
    "    ['b', 'mag_b','gravity_disturbance'],\n",
    "]\n",
    "number_of_models = 10\n",
    "epochs = 500"
   ]
  },
  {
   "cell_type": "code",
   "execution_count": 7,
   "metadata": {
    "scrolled": true
   },
   "outputs": [
    {
     "name": "stdout",
     "output_type": "stream",
     "text": [
      "Epoch 1/500\n",
      "3011/7809 [==========>...................] - ETA: 1:00 - loss: 7.3063e-04"
     ]
    }
   ],
   "source": [
    "model_list, input_scaler_list, output_scaler_list, history_list, r2_stats_list, r2_adjusted_stats_list, mse_stats_list, df_summary = loop_train_ensemble_mlp_model(column_list , epochs = epochs, variable = 'C', number_of_models = number_of_models, bad_r2_score = -500, start_number = 0, variable_type = 'mixed')\n",
    "#model_list, input_scaler, output_scaler, history_list = train_ensemble_mlp_model(epochs = 500, variable = 'C', number_of_models = number_of_models, columns = static_columns, bad_r2_score = 0.2, start_number = 0, variable_type = 'static')"
   ]
  },
  {
   "cell_type": "code",
   "execution_count": null,
   "metadata": {},
   "outputs": [
    {
     "data": {
      "text/html": [
       "<div>\n",
       "<style scoped>\n",
       "    .dataframe tbody tr th:only-of-type {\n",
       "        vertical-align: middle;\n",
       "    }\n",
       "\n",
       "    .dataframe tbody tr th {\n",
       "        vertical-align: top;\n",
       "    }\n",
       "\n",
       "    .dataframe thead th {\n",
       "        text-align: right;\n",
       "    }\n",
       "</style>\n",
       "<table border=\"1\" class=\"dataframe\">\n",
       "  <thead>\n",
       "    <tr style=\"text-align: right;\">\n",
       "      <th></th>\n",
       "      <th>input_columns</th>\n",
       "      <th>r2_mean</th>\n",
       "      <th>r2_std</th>\n",
       "      <th>r2_median</th>\n",
       "      <th>r2_adjusted_mean</th>\n",
       "      <th>r2_adjusted_std</th>\n",
       "      <th>r2_adjusted_median</th>\n",
       "      <th>mse_mean</th>\n",
       "      <th>mse_std</th>\n",
       "      <th>mse_median</th>\n",
       "    </tr>\n",
       "  </thead>\n",
       "  <tbody>\n",
       "    <tr>\n",
       "      <th>0</th>\n",
       "      <td>[s, b, h, mag_h, mag_s, mag_b, driving_stress,...</td>\n",
       "      <td>-13.376496</td>\n",
       "      <td>5.424728</td>\n",
       "      <td>-13.376496</td>\n",
       "      <td>-13.377894</td>\n",
       "      <td>5.425256</td>\n",
       "      <td>-13.377894</td>\n",
       "      <td>0.00026</td>\n",
       "      <td>0.000004</td>\n",
       "      <td>0.00026</td>\n",
       "    </tr>\n",
       "  </tbody>\n",
       "</table>\n",
       "</div>"
      ],
      "text/plain": [
       "                                       input_columns    r2_mean    r2_std  \\\n",
       "0  [s, b, h, mag_h, mag_s, mag_b, driving_stress,... -13.376496  5.424728   \n",
       "\n",
       "   r2_median  r2_adjusted_mean  r2_adjusted_std  r2_adjusted_median  mse_mean  \\\n",
       "0 -13.376496        -13.377894         5.425256          -13.377894   0.00026   \n",
       "\n",
       "    mse_std  mse_median  \n",
       "0  0.000004     0.00026  "
      ]
     },
     "execution_count": 5,
     "metadata": {},
     "output_type": "execute_result"
    }
   ],
   "source": [
    "df_summary"
   ]
  },
  {
   "cell_type": "code",
   "execution_count": null,
   "metadata": {},
   "outputs": [],
   "source": [
    "#model_list, input_scaler, output_scaler, input_columns, variable = load_ensemble_mlp_model(input_columns, number_of_models = len(model_list), variable = 'C')"
   ]
  },
  {
   "cell_type": "code",
   "execution_count": null,
   "metadata": {},
   "outputs": [],
   "source": []
  }
 ],
 "metadata": {
  "kernelspec": {
   "display_name": "Python 3 (ipykernel)",
   "language": "python",
   "name": "python3"
  },
  "language_info": {
   "codemirror_mode": {
    "name": "ipython",
    "version": 3
   },
   "file_extension": ".py",
   "mimetype": "text/x-python",
   "name": "python",
   "nbconvert_exporter": "python",
   "pygments_lexer": "ipython3",
   "version": "3.9.18"
  }
 },
 "nbformat": 4,
 "nbformat_minor": 4
}
